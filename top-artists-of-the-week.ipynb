{
 "cells": [
  {
   "cell_type": "markdown",
   "metadata": {},
   "source": [
    "# My weekly listenings in Spotify\n",
    "n most listened artists of each week are shown"
   ]
  },
  {
   "cell_type": "markdown",
   "metadata": {},
   "source": [
    "## 0. Settings before run"
   ]
  },
  {
   "cell_type": "code",
   "execution_count": null,
   "metadata": {},
   "outputs": [],
   "source": [
    "# specify path to the folder called 'MyData'\n",
    "# it's allowed to store more than one folder 'MyData' here\n",
    "# you can also rename folder(s) 'MyData' to anything you want\n",
    "file_path = '/Users/xxx/folder_name' \n",
    "\n",
    "# specify how many top artists per week should be shown\n",
    "n = 3"
   ]
  },
  {
   "cell_type": "markdown",
   "metadata": {},
   "source": [
    "## 1. Imports"
   ]
  },
  {
   "cell_type": "code",
   "execution_count": 2,
   "metadata": {},
   "outputs": [],
   "source": [
    "import plotly.express as px\n",
    "import plotly.graph_objects as go\n",
    "from itertools import cycle\n",
    "import pandas as pd\n",
    "import numpy as np\n",
    "import glob\n",
    "import os\n",
    "from datetime import timedelta"
   ]
  },
  {
   "cell_type": "markdown",
   "metadata": {},
   "source": [
    "## 2. Data reading and transformation"
   ]
  },
  {
   "cell_type": "code",
   "execution_count": 3,
   "metadata": {},
   "outputs": [],
   "source": [
    "# reading multiple files\n",
    "json_pattern = os.path.join(file_path,'*/StreamingHistory*.json')\n",
    "file_list = glob.glob(json_pattern)\n",
    "\n",
    "dfs = [] \n",
    "for file in file_list:\n",
    "    data = pd.read_json(file, lines=False) \n",
    "    dfs.append(data)\n",
    "data = pd.concat(dfs, ignore_index=True) \n",
    "\n",
    "data.drop_duplicates(inplace=True)"
   ]
  },
  {
   "cell_type": "code",
   "execution_count": 4,
   "metadata": {},
   "outputs": [],
   "source": [
    "# preparing columns\n",
    "data[\"endTime\"] = pd.to_datetime(data[\"endTime\"])\n",
    "data[\"year\"] = data[\"endTime\"].dt.year.astype(\"int\")\n",
    "data[\"artist\"] = data[\"artistName\"]\n",
    "data[\"month\"] = data[\"endTime\"].dt.month.astype(\"int\")\n",
    "data[\"week\"] = data['endTime'] - pd.to_timedelta(data['endTime'].dt.dayofweek, unit='d')+timedelta(days=6)\n",
    "data['period'] = data['week'].astype(str).str[:10]\n",
    "\n",
    "# removing tracks played shorter than 0,5 min (30000 ms)\n",
    "data = data[data[\"msPlayed\"] >= 30000] \n",
    "\n",
    "# for each artist, grouping by period and number of listenings\n",
    "# and selecting top n artists for each period \n",
    "data = data.groupby(['artist', 'period']).size().reset_index(name='count')\n",
    "data = data.sort_values('count', ascending=False)\n",
    "data = data.groupby('period').head(n)"
   ]
  },
  {
   "cell_type": "markdown",
   "metadata": {},
   "source": [
    "### Adding missing periods to original data \n",
    "to create breaks in line plot when missing data (instead of interpolating)"
   ]
  },
  {
   "cell_type": "code",
   "execution_count": 5,
   "metadata": {},
   "outputs": [],
   "source": [
    "# creating a dataframe with all periods between first and last record\n",
    "first_period = data.sort_values('period', ascending=True).head(1)['period'].to_string()[-10:]\n",
    "last_period = data.sort_values('period', ascending=True).tail(1)['period'].to_string()[-10:]\n",
    "all_periods = pd.date_range(start=first_period, end=last_period, freq='W')\n",
    "all_periods = pd.DataFrame({'key': np.ones(all_periods.size, dtype=int),\n",
    "                    'period': all_periods})\n",
    "\n",
    "# creating a dataframe with all artists\n",
    "all_artists = pd.DataFrame({'artist': data['artist'].drop_duplicates()})\n",
    "all_artists = pd.DataFrame({'key': np.ones(all_artists.size, dtype=int), \n",
    "                           'artist': data['artist'].drop_duplicates()})\n",
    "all_artists=all_artists.reset_index(drop=True)\n",
    "\n",
    "# creating a dataframe \"full\" containing all artists in all periods\n",
    "artists_full = []\n",
    "for j in range(all_artists['key'].size):\n",
    "    for i in range(all_periods['key'].size):\n",
    "        artists_full.append(all_artists['artist'][j])\n",
    "        \n",
    "periods_full = []\n",
    "for j in range(all_artists['key'].size):\n",
    "    for i in range(all_periods['key'].size):\n",
    "        periods_full.append(all_periods['period'][i])\n",
    "\n",
    "full = pd.DataFrame({'artist':artists_full,\n",
    "                    'period':periods_full,\n",
    "                    'count':None})\n",
    "full['period'] = full['period'].astype('str')\n",
    "\n",
    "# merging \"full\" with original data\n",
    "# to get number of listenings per artist for each period\n",
    "full = full.merge(data, on=['artist','period'], how='left')\n",
    "\n",
    "full = full.sort_values('period', ascending=True)\n",
    "full['count_y'] = full['count_y'].astype('float')\n",
    "full = full.where(pd.notnull(full), None)"
   ]
  },
  {
   "cell_type": "markdown",
   "metadata": {},
   "source": [
    "## 3. Visualisation"
   ]
  },
  {
   "cell_type": "code",
   "execution_count": null,
   "metadata": {
    "scrolled": false
   },
   "outputs": [],
   "source": [
    "palette = cycle(px.colors.qualitative.Bold)\n",
    "\n",
    "fig = go.Figure(layout_title_text=\"Top \"+ str(n) +\" artists each week\")\n",
    "\n",
    "for i in range(all_artists['key'].size):\n",
    "    artist = all_artists['artist'][i]\n",
    "    plot_data1 = full[full[\"artist\"]==artist]\n",
    "    fig.add_trace(go.Scatter(\n",
    "        x=plot_data1['period'],\n",
    "        y=plot_data1['count_y'],\n",
    "        name = artist,\n",
    "        line_shape='spline',\n",
    "        mode='lines+markers',\n",
    "        text = plot_data1['artist'],\n",
    "        connectgaps=False,\n",
    "        showlegend=False,\n",
    "        marker_color=next(palette),\n",
    "        hovertemplate=\n",
    "        \"<b>%{text}</b><br>\" +\n",
    "        \"# of listenings: %{y}\" +\n",
    "        \"<extra></extra>\",\n",
    "    ))\n",
    "    \n",
    "fig.update_traces(marker=dict(size=7,\n",
    "                              line=dict(width=1,\n",
    "                                        color='DarkSlateGrey')))\n",
    "fig.update_layout(\n",
    "    hoverlabel=dict(font_size=16),\n",
    "    xaxis=dict(showgrid=False),\n",
    "    yaxis=dict(gridcolor='white'))\n",
    "\n",
    "fig.show()"
   ]
  }
 ],
 "metadata": {
  "kernelspec": {
   "display_name": "Python 3",
   "language": "python",
   "name": "python3"
  },
  "language_info": {
   "codemirror_mode": {
    "name": "ipython",
    "version": 3
   },
   "file_extension": ".py",
   "mimetype": "text/x-python",
   "name": "python",
   "nbconvert_exporter": "python",
   "pygments_lexer": "ipython3",
   "version": "3.8.3"
  }
 },
 "nbformat": 4,
 "nbformat_minor": 4
}
